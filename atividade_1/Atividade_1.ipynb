{
 "cells": [
  {
   "cell_type": "code",
   "execution_count": 1,
   "id": "1f7b7513-64a0-49c8-8d96-63013ec7548a",
   "metadata": {},
   "outputs": [
    {
     "data": {
      "text/plain": [
       "'Teste - ver como funciona as alteracoes do jupyter no git'"
      ]
     },
     "execution_count": 1,
     "metadata": {},
     "output_type": "execute_result"
    }
   ],
   "source": [
    "\"Teste - ver como funciona as alteracoes do jupyter no git\""
   ]
  },
  {
   "cell_type": "code",
   "execution_count": 2,
   "id": "9b2c9515-a2e2-459f-9cbd-60de536c5a22",
   "metadata": {},
   "outputs": [],
   "source": [
    "a = 2"
   ]
  },
  {
   "cell_type": "code",
   "execution_count": 4,
   "id": "b553169a-2261-4176-a958-2fd6be60be26",
   "metadata": {},
   "outputs": [
    {
     "data": {
      "text/plain": [
       "'Escrevendo coisas no mesmo bloco'"
      ]
     },
     "execution_count": 4,
     "metadata": {},
     "output_type": "execute_result"
    }
   ],
   "source": [
    "b = 5\n",
    "\n",
    "\"Escrevendo coisas no mesmo bloco\""
   ]
  },
  {
   "cell_type": "code",
   "execution_count": null,
   "id": "11fe2d0c-2d04-4178-95e0-063e28a2623f",
   "metadata": {},
   "outputs": [],
   "source": []
  },
  {
   "cell_type": "code",
   "execution_count": null,
   "id": "192d1d8c-75d8-49ae-b24d-a5e973956d41",
   "metadata": {},
   "outputs": [],
   "source": []
  }
 ],
 "metadata": {
  "kernelspec": {
   "display_name": "env_at_1",
   "language": "python",
   "name": "env_at_1"
  },
  "language_info": {
   "codemirror_mode": {
    "name": "ipython",
    "version": 3
   },
   "file_extension": ".py",
   "mimetype": "text/x-python",
   "name": "python",
   "nbconvert_exporter": "python",
   "pygments_lexer": "ipython3",
   "version": "3.8.10"
  }
 },
 "nbformat": 4,
 "nbformat_minor": 5
}
